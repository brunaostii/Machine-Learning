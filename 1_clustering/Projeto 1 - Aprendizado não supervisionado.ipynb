{
 "cells": [
  {
   "cell_type": "markdown",
   "id": "colored-youth",
   "metadata": {},
   "source": [
    "# Análise dos datasets\n",
    "\n",
    "Foram utilizados dois datasets para os experimentos: um mais simples com 2 dimensões que foi disponibilizado pela professora, e outro um pouco mais complexo envolvendo um problema real de N dimensões."
   ]
  },
  {
   "cell_type": "code",
   "execution_count": 1,
   "id": "entire-disco",
   "metadata": {},
   "outputs": [],
   "source": [
    "import pandas as pd\n",
    "import matplotlib.pyplot as plt \n",
    "import numpy as np\n",
    "import random\n",
    "from scipy.spatial import distance as dist\n",
    "from tqdm import tqdm "
   ]
  },
  {
   "cell_type": "markdown",
   "id": "measured-appendix",
   "metadata": {},
   "source": [
    "## Dataset 2D\n",
    "\n",
    "O dataset de 2 dimensões tem como features as coordenadas [x, y] sobre a localização dos pontos no espaço."
   ]
  },
  {
   "cell_type": "code",
   "execution_count": 2,
   "id": "bridal-truck",
   "metadata": {},
   "outputs": [],
   "source": [
    "data_1 = [i.strip().split() for i in open(\"./cluster.dat\").readlines()]\n",
    "data_1 = pd.DataFrame(data_1)\n",
    "data_1[0] = pd.to_numeric(data_1[0])\n",
    "data_1[1] = pd.to_numeric(data_1[1])"
   ]
  },
  {
   "cell_type": "code",
   "execution_count": 3,
   "id": "crude-brass",
   "metadata": {},
   "outputs": [
    {
     "name": "stdout",
     "output_type": "stream",
     "text": [
      "Tamanho do dataset: (573, 2)\n"
     ]
    }
   ],
   "source": [
    "print('Tamanho do dataset: {}'.format(data_1.shape))"
   ]
  },
  {
   "cell_type": "code",
   "execution_count": 4,
   "id": "japanese-indiana",
   "metadata": {},
   "outputs": [
    {
     "data": {
      "text/html": [
       "<div>\n",
       "<style scoped>\n",
       "    .dataframe tbody tr th:only-of-type {\n",
       "        vertical-align: middle;\n",
       "    }\n",
       "\n",
       "    .dataframe tbody tr th {\n",
       "        vertical-align: top;\n",
       "    }\n",
       "\n",
       "    .dataframe thead th {\n",
       "        text-align: right;\n",
       "    }\n",
       "</style>\n",
       "<table border=\"1\" class=\"dataframe\">\n",
       "  <thead>\n",
       "    <tr style=\"text-align: right;\">\n",
       "      <th></th>\n",
       "      <th>0</th>\n",
       "      <th>1</th>\n",
       "    </tr>\n",
       "  </thead>\n",
       "  <tbody>\n",
       "    <tr>\n",
       "      <th>0</th>\n",
       "      <td>1555.0</td>\n",
       "      <td>28.65</td>\n",
       "    </tr>\n",
       "    <tr>\n",
       "      <th>1</th>\n",
       "      <td>1490.0</td>\n",
       "      <td>27.55</td>\n",
       "    </tr>\n",
       "    <tr>\n",
       "      <th>2</th>\n",
       "      <td>1445.0</td>\n",
       "      <td>28.35</td>\n",
       "    </tr>\n",
       "    <tr>\n",
       "      <th>3</th>\n",
       "      <td>1415.0</td>\n",
       "      <td>28.80</td>\n",
       "    </tr>\n",
       "    <tr>\n",
       "      <th>4</th>\n",
       "      <td>1375.0</td>\n",
       "      <td>28.05</td>\n",
       "    </tr>\n",
       "  </tbody>\n",
       "</table>\n",
       "</div>"
      ],
      "text/plain": [
       "        0      1\n",
       "0  1555.0  28.65\n",
       "1  1490.0  27.55\n",
       "2  1445.0  28.35\n",
       "3  1415.0  28.80\n",
       "4  1375.0  28.05"
      ]
     },
     "execution_count": 4,
     "metadata": {},
     "output_type": "execute_result"
    }
   ],
   "source": [
    "data_1.head()"
   ]
  },
  {
   "cell_type": "code",
   "execution_count": 5,
   "id": "fabulous-prison",
   "metadata": {},
   "outputs": [],
   "source": [
    "data_1 = data_1.rename({0: 'x', 1: 'y'}, axis=1) "
   ]
  },
  {
   "cell_type": "markdown",
   "id": "altered-martial",
   "metadata": {},
   "source": [
    "Verificando se há valores nulos:"
   ]
  },
  {
   "cell_type": "code",
   "execution_count": 6,
   "id": "announced-turning",
   "metadata": {},
   "outputs": [
    {
     "data": {
      "text/plain": [
       "x    0\n",
       "y    0\n",
       "dtype: int64"
      ]
     },
     "execution_count": 6,
     "metadata": {},
     "output_type": "execute_result"
    }
   ],
   "source": [
    "data_1.isna().sum()"
   ]
  },
  {
   "cell_type": "markdown",
   "id": "external-bracelet",
   "metadata": {},
   "source": [
    "Podemos observar que não há outliers pois os números de 90% e 95% são bem próximos."
   ]
  },
  {
   "cell_type": "code",
   "execution_count": 7,
   "id": "urban-camcorder",
   "metadata": {},
   "outputs": [
    {
     "data": {
      "text/html": [
       "<div>\n",
       "<style scoped>\n",
       "    .dataframe tbody tr th:only-of-type {\n",
       "        vertical-align: middle;\n",
       "    }\n",
       "\n",
       "    .dataframe tbody tr th {\n",
       "        vertical-align: top;\n",
       "    }\n",
       "\n",
       "    .dataframe thead th {\n",
       "        text-align: right;\n",
       "    }\n",
       "</style>\n",
       "<table border=\"1\" class=\"dataframe\">\n",
       "  <thead>\n",
       "    <tr style=\"text-align: right;\">\n",
       "      <th></th>\n",
       "      <th>x</th>\n",
       "      <th>y</th>\n",
       "    </tr>\n",
       "  </thead>\n",
       "  <tbody>\n",
       "    <tr>\n",
       "      <th>count</th>\n",
       "      <td>573.000000</td>\n",
       "      <td>573.000000</td>\n",
       "    </tr>\n",
       "    <tr>\n",
       "      <th>mean</th>\n",
       "      <td>1849.808028</td>\n",
       "      <td>15.227836</td>\n",
       "    </tr>\n",
       "    <tr>\n",
       "      <th>std</th>\n",
       "      <td>900.129972</td>\n",
       "      <td>8.292268</td>\n",
       "    </tr>\n",
       "    <tr>\n",
       "      <th>min</th>\n",
       "      <td>335.000000</td>\n",
       "      <td>1.950000</td>\n",
       "    </tr>\n",
       "    <tr>\n",
       "      <th>10%</th>\n",
       "      <td>789.000000</td>\n",
       "      <td>4.550000</td>\n",
       "    </tr>\n",
       "    <tr>\n",
       "      <th>50%</th>\n",
       "      <td>1655.000000</td>\n",
       "      <td>17.200000</td>\n",
       "    </tr>\n",
       "    <tr>\n",
       "      <th>90%</th>\n",
       "      <td>3299.000000</td>\n",
       "      <td>26.000000</td>\n",
       "    </tr>\n",
       "    <tr>\n",
       "      <th>95%</th>\n",
       "      <td>3427.000000</td>\n",
       "      <td>27.250000</td>\n",
       "    </tr>\n",
       "    <tr>\n",
       "      <th>max</th>\n",
       "      <td>3635.000000</td>\n",
       "      <td>29.150000</td>\n",
       "    </tr>\n",
       "  </tbody>\n",
       "</table>\n",
       "</div>"
      ],
      "text/plain": [
       "                 x           y\n",
       "count   573.000000  573.000000\n",
       "mean   1849.808028   15.227836\n",
       "std     900.129972    8.292268\n",
       "min     335.000000    1.950000\n",
       "10%     789.000000    4.550000\n",
       "50%    1655.000000   17.200000\n",
       "90%    3299.000000   26.000000\n",
       "95%    3427.000000   27.250000\n",
       "max    3635.000000   29.150000"
      ]
     },
     "execution_count": 7,
     "metadata": {},
     "output_type": "execute_result"
    }
   ],
   "source": [
    "data_1.describe([0.1, 0.9, 0.95])"
   ]
  },
  {
   "cell_type": "code",
   "execution_count": 8,
   "id": "purple-listening",
   "metadata": {},
   "outputs": [
    {
     "data": {
      "image/png": "[encoded data removed]",
      "text/plain": [
       "<Figure size 576x360 with 1 Axes>"
      ]
     },
     "metadata": {
      "needs_background": "light"
     },
     "output_type": "display_data"
    }
   ],
   "source": [
    "plt.figure(figsize=(8,5))\n",
    "plt.scatter(data_1['x'], data_1['y'])\n",
    "plt.title('Distribuição dos dados')\n",
    "plt.show()"
   ]
  },
  {
   "cell_type": "markdown",
   "id": "rolled-segment",
   "metadata": {},
   "source": [
    "## U.S. News and World Report’s College Data\n",
    "\n",
    "Esse dataset é formado por estatísticas de um grande número de faculdades dos EUA, da edição de 1995 do \"US News and World Report\". Este conjunto de dados foi retirado da biblioteca StatLib, que é mantida na Carnegie Mellon University e foi disponibilizado pela plataforma Kaggle. (https://www.kaggle.com/flyingwombat/us-news-and-world-reports-college-data).\n",
    "\n",
    "O problema busca identificar se as faculdades são públicas ou privadas através das features."
   ]
  },
  {
   "cell_type": "code",
   "execution_count": 9,
   "id": "another-carter",
   "metadata": {},
   "outputs": [],
   "source": [
    "data_2 = pd.read_csv('College.csv')"
   ]
  },
  {
   "cell_type": "code",
   "execution_count": 10,
   "id": "exclusive-kazakhstan",
   "metadata": {},
   "outputs": [
    {
     "name": "stdout",
     "output_type": "stream",
     "text": [
      "Tamanho do dataset: (777, 19)\n"
     ]
    }
   ],
   "source": [
    "print('Tamanho do dataset: {}'.format(data_2.shape))"
   ]
  },
  {
   "cell_type": "code",
   "execution_count": 11,
   "id": "institutional-jones",
   "metadata": {},
   "outputs": [
    {
     "data": {
      "text/html": [
       "<div>\n",
       "<style scoped>\n",
       "    .dataframe tbody tr th:only-of-type {\n",
       "        vertical-align: middle;\n",
       "    }\n",
       "\n",
       "    .dataframe tbody tr th {\n",
       "        vertical-align: top;\n",
       "    }\n",
       "\n",
       "    .dataframe thead th {\n",
       "        text-align: right;\n",
       "    }\n",
       "</style>\n",
       "<table border=\"1\" class=\"dataframe\">\n",
       "  <thead>\n",
       "    <tr style=\"text-align: right;\">\n",
       "      <th></th>\n",
       "      <th>Unnamed: 0</th>\n",
       "      <th>Private</th>\n",
       "      <th>Apps</th>\n",
       "      <th>Accept</th>\n",
       "      <th>Enroll</th>\n",
       "      <th>Top10perc</th>\n",
       "      <th>Top25perc</th>\n",
       "      <th>F.Undergrad</th>\n",
       "      <th>P.Undergrad</th>\n",
       "      <th>Outstate</th>\n",
       "      <th>Room.Board</th>\n",
       "      <th>Books</th>\n",
       "      <th>Personal</th>\n",
       "      <th>PhD</th>\n",
       "      <th>Terminal</th>\n",
       "      <th>S.F.Ratio</th>\n",
       "      <th>perc.alumni</th>\n",
       "      <th>Expend</th>\n",
       "      <th>Grad.Rate</th>\n",
       "    </tr>\n",
       "  </thead>\n",
       "  <tbody>\n",
       "    <tr>\n",
       "      <th>0</th>\n",
       "      <td>Abilene Christian University</td>\n",
       "      <td>Yes</td>\n",
       "      <td>1660</td>\n",
       "      <td>1232</td>\n",
       "      <td>721</td>\n",
       "      <td>23</td>\n",
       "      <td>52</td>\n",
       "      <td>2885</td>\n",
       "      <td>537</td>\n",
       "      <td>7440</td>\n",
       "      <td>3300</td>\n",
       "      <td>450</td>\n",
       "      <td>2200</td>\n",
       "      <td>70</td>\n",
       "      <td>78</td>\n",
       "      <td>18.1</td>\n",
       "      <td>12</td>\n",
       "      <td>7041</td>\n",
       "      <td>60</td>\n",
       "    </tr>\n",
       "    <tr>\n",
       "      <th>1</th>\n",
       "      <td>Adelphi University</td>\n",
       "      <td>Yes</td>\n",
       "      <td>2186</td>\n",
       "      <td>1924</td>\n",
       "      <td>512</td>\n",
       "      <td>16</td>\n",
       "      <td>29</td>\n",
       "      <td>2683</td>\n",
       "      <td>1227</td>\n",
       "      <td>12280</td>\n",
       "      <td>6450</td>\n",
       "      <td>750</td>\n",
       "      <td>1500</td>\n",
       "      <td>29</td>\n",
       "      <td>30</td>\n",
       "      <td>12.2</td>\n",
       "      <td>16</td>\n",
       "      <td>10527</td>\n",
       "      <td>56</td>\n",
       "    </tr>\n",
       "    <tr>\n",
       "      <th>2</th>\n",
       "      <td>Adrian College</td>\n",
       "      <td>Yes</td>\n",
       "      <td>1428</td>\n",
       "      <td>1097</td>\n",
       "      <td>336</td>\n",
       "      <td>22</td>\n",
       "      <td>50</td>\n",
       "      <td>1036</td>\n",
       "      <td>99</td>\n",
       "      <td>11250</td>\n",
       "      <td>3750</td>\n",
       "      <td>400</td>\n",
       "      <td>1165</td>\n",
       "      <td>53</td>\n",
       "      <td>66</td>\n",
       "      <td>12.9</td>\n",
       "      <td>30</td>\n",
       "      <td>8735</td>\n",
       "      <td>54</td>\n",
       "    </tr>\n",
       "    <tr>\n",
       "      <th>3</th>\n",
       "      <td>Agnes Scott College</td>\n",
       "      <td>Yes</td>\n",
       "      <td>417</td>\n",
       "      <td>349</td>\n",
       "      <td>137</td>\n",
       "      <td>60</td>\n",
       "      <td>89</td>\n",
       "      <td>510</td>\n",
       "      <td>63</td>\n",
       "      <td>12960</td>\n",
       "      <td>5450</td>\n",
       "      <td>450</td>\n",
       "      <td>875</td>\n",
       "      <td>92</td>\n",
       "      <td>97</td>\n",
       "      <td>7.7</td>\n",
       "      <td>37</td>\n",
       "      <td>19016</td>\n",
       "      <td>59</td>\n",
       "    </tr>\n",
       "    <tr>\n",
       "      <th>4</th>\n",
       "      <td>Alaska Pacific University</td>\n",
       "      <td>Yes</td>\n",
       "      <td>193</td>\n",
       "      <td>146</td>\n",
       "      <td>55</td>\n",
       "      <td>16</td>\n",
       "      <td>44</td>\n",
       "      <td>249</td>\n",
       "      <td>869</td>\n",
       "      <td>7560</td>\n",
       "      <td>4120</td>\n",
       "      <td>800</td>\n",
       "      <td>1500</td>\n",
       "      <td>76</td>\n",
       "      <td>72</td>\n",
       "      <td>11.9</td>\n",
       "      <td>2</td>\n",
       "      <td>10922</td>\n",
       "      <td>15</td>\n",
       "    </tr>\n",
       "  </tbody>\n",
       "</table>\n",
       "</div>"
      ],
      "text/plain": [
       "                     Unnamed: 0 Private  Apps  Accept  Enroll  Top10perc  \\\n",
       "0  Abilene Christian University     Yes  1660    1232     721         23   \n",
       "1            Adelphi University     Yes  2186    1924     512         16   \n",
       "2                Adrian College     Yes  1428    1097     336         22   \n",
       "3           Agnes Scott College     Yes   417     349     137         60   \n",
       "4     Alaska Pacific University     Yes   193     146      55         16   \n",
       "\n",
       "   Top25perc  F.Undergrad  P.Undergrad  Outstate  Room.Board  Books  Personal  \\\n",
       "0         52         2885          537      7440        3300    450      2200   \n",
       "1         29         2683         1227     12280        6450    750      1500   \n",
       "2         50         1036           99     11250        3750    400      1165   \n",
       "3         89          510           63     12960        5450    450       875   \n",
       "4         44          249          869      7560        4120    800      1500   \n",
       "\n",
       "   PhD  Terminal  S.F.Ratio  perc.alumni  Expend  Grad.Rate  \n",
       "0   70        78       18.1           12    7041         60  \n",
       "1   29        30       12.2           16   10527         56  \n",
       "2   53        66       12.9           30    8735         54  \n",
       "3   92        97        7.7           37   19016         59  \n",
       "4   76        72       11.9            2   10922         15  "
      ]
     },
     "execution_count": 11,
     "metadata": {},
     "output_type": "execute_result"
    }
   ],
   "source": [
    "data_2.head()"
   ]
  },
  {
   "cell_type": "markdown",
   "id": "fifth-schema",
   "metadata": {},
   "source": [
    "Significado de cada feature:\n",
    "\n",
    "    - Private: Não e Sim indicando universidade pública ou privada;\n",
    "    - Apps: Número de aplicações recebidas;\n",
    "    - Accept: Número de aplicações aceitas;\n",
    "    - Enroll: Número de novos alunos matriculados;\n",
    "    - Top10perc: Percentil dos novos alunos - 10% melhores do H.S. aula;\n",
    "    - Top25perc: Percentil dos novos alunos - 25% melhores do H.S. aula;\n",
    "    - F.Undergrad: Número de alunos de graduação em tempo integral; \n",
    "    - P.Undergrad: Número de alunos de graduação em meio período;\n",
    "    - Outstate: Taxas externas do estado; \n",
    "    - Room.Board: Moradia e custos de alimentação;\n",
    "    - Books: Custo estimado de livros; \n",
    "    - Personal: Custo pessoal estimado; \n",
    "    - PhD: Percentual do corpo docente com Ph.D.;\n",
    "    - Terminal: Percentual do corpo docente com grau terminal; \n",
    "    - S.F.Ratio: Razão aluno/professor; \n",
    "    - perc.alumni: Percentual de ex-alunos que doam; \n",
    "    - Expend: Gastos com instrução por aluno;        \n",
    "    - Grad.Rate: Taxa de graduação.\n",
    "    \n",
    "O private é o label do dataset portanto para não haver vazamento de dados, vamos retirá-lo do dataset, de mesma forma do 'Unnamed: 0' que se trata de qual faculdade estamos tratando."
   ]
  },
  {
   "cell_type": "markdown",
   "id": "concerned-organizer",
   "metadata": {},
   "source": [
    "Tipo de dados de cada feature:"
   ]
  },
  {
   "cell_type": "code",
   "execution_count": 12,
   "id": "entitled-lebanon",
   "metadata": {},
   "outputs": [
    {
     "name": "stdout",
     "output_type": "stream",
     "text": [
      "<class 'pandas.core.frame.DataFrame'>\n",
      "RangeIndex: 777 entries, 0 to 776\n",
      "Data columns (total 19 columns):\n",
      " #   Column       Non-Null Count  Dtype  \n",
      "---  ------       --------------  -----  \n",
      " 0   Unnamed: 0   777 non-null    object \n",
      " 1   Private      777 non-null    object \n",
      " 2   Apps         777 non-null    int64  \n",
      " 3   Accept       777 non-null    int64  \n",
      " 4   Enroll       777 non-null    int64  \n",
      " 5   Top10perc    777 non-null    int64  \n",
      " 6   Top25perc    777 non-null    int64  \n",
      " 7   F.Undergrad  777 non-null    int64  \n",
      " 8   P.Undergrad  777 non-null    int64  \n",
      " 9   Outstate     777 non-null    int64  \n",
      " 10  Room.Board   777 non-null    int64  \n",
      " 11  Books        777 non-null    int64  \n",
      " 12  Personal     777 non-null    int64  \n",
      " 13  PhD          777 non-null    int64  \n",
      " 14  Terminal     777 non-null    int64  \n",
      " 15  S.F.Ratio    777 non-null    float64\n",
      " 16  perc.alumni  777 non-null    int64  \n",
      " 17  Expend       777 non-null    int64  \n",
      " 18  Grad.Rate    777 non-null    int64  \n",
      "dtypes: float64(1), int64(16), object(2)\n",
      "memory usage: 115.5+ KB\n"
     ]
    }
   ],
   "source": [
    "data_2.info()"
   ]
  },
  {
   "cell_type": "markdown",
   "id": "varying-springer",
   "metadata": {},
   "source": [
    "Verificando se há valores nulos:"
   ]
  },
  {
   "cell_type": "markdown",
   "id": "contemporary-juice",
   "metadata": {},
   "source": [
    "Pela verificação de outliers utilizando os quartis, retiramos as amostras que são maiores do que 90%"
   ]
  },
  {
   "cell_type": "code",
   "execution_count": 13,
   "id": "sealed-weekend",
   "metadata": {},
   "outputs": [
    {
     "name": "stdout",
     "output_type": "stream",
     "text": [
      "count                    777\n",
      "unique                   777\n",
      "top       Colgate University\n",
      "freq                       1\n",
      "Name: Unnamed: 0, dtype: object \n",
      "\n",
      "count     777\n",
      "unique      2\n",
      "top       Yes\n",
      "freq      565\n",
      "Name: Private, dtype: object \n",
      "\n",
      "count      777.000000\n",
      "mean      3001.638353\n",
      "std       3870.201484\n",
      "min         81.000000\n",
      "10%        457.600000\n",
      "50%       1558.000000\n",
      "90%       7675.000000\n",
      "95%      11066.200000\n",
      "max      48094.000000\n",
      "Name: Apps, dtype: float64 \n",
      "\n",
      "count      777.000000\n",
      "mean      2018.804376\n",
      "std       2451.113971\n",
      "min         72.000000\n",
      "10%        361.600000\n",
      "50%       1110.000000\n",
      "90%       4814.200000\n",
      "95%       6979.200000\n",
      "max      26330.000000\n",
      "Name: Accept, dtype: float64 \n",
      "\n",
      "count     777.000000\n",
      "mean      779.972973\n",
      "std       929.176190\n",
      "min        35.000000\n",
      "10%       154.000000\n",
      "50%       434.000000\n",
      "90%      1903.600000\n",
      "95%      2757.000000\n",
      "max      6392.000000\n",
      "Name: Enroll, dtype: float64 \n",
      "\n",
      "count    777.000000\n",
      "mean      27.558559\n",
      "std       17.640364\n",
      "min        1.000000\n",
      "10%       10.000000\n",
      "50%       23.000000\n",
      "90%       50.400000\n",
      "95%       65.200000\n",
      "max       96.000000\n",
      "Name: Top10perc, dtype: float64 \n",
      "\n",
      "count    777.000000\n",
      "mean      55.796654\n",
      "std       19.804778\n",
      "min        9.000000\n",
      "10%       30.600000\n",
      "50%       54.000000\n",
      "90%       85.000000\n",
      "95%       93.000000\n",
      "max      100.000000\n",
      "Name: Top25perc, dtype: float64 \n",
      "\n",
      "count      777.000000\n",
      "mean      3699.907336\n",
      "std       4850.420531\n",
      "min        139.000000\n",
      "10%        641.000000\n",
      "50%       1707.000000\n",
      "90%      10024.400000\n",
      "95%      14477.800000\n",
      "max      31643.000000\n",
      "Name: F.Undergrad, dtype: float64 \n",
      "\n",
      "count      777.000000\n",
      "mean       855.298584\n",
      "std       1522.431887\n",
      "min          1.000000\n",
      "10%         35.000000\n",
      "50%        353.000000\n",
      "90%       2016.600000\n",
      "95%       3303.600000\n",
      "max      21836.000000\n",
      "Name: P.Undergrad, dtype: float64 \n",
      "\n",
      "count      777.000000\n",
      "mean     10440.669241\n",
      "std       4023.016484\n",
      "min       2340.000000\n",
      "10%       5568.800000\n",
      "50%       9990.000000\n",
      "90%      16552.800000\n",
      "95%      18498.000000\n",
      "max      21700.000000\n",
      "Name: Outstate, dtype: float64 \n",
      "\n",
      "count     777.000000\n",
      "mean     4357.526384\n",
      "std      1096.696416\n",
      "min      1780.000000\n",
      "10%      3051.200000\n",
      "50%      4200.000000\n",
      "90%      5950.000000\n",
      "95%      6382.000000\n",
      "max      8124.000000\n",
      "Name: Room.Board, dtype: float64 \n",
      "\n",
      "count     777.000000\n",
      "mean      549.380952\n",
      "std       165.105360\n",
      "min        96.000000\n",
      "10%       400.000000\n",
      "50%       500.000000\n",
      "90%       700.000000\n",
      "95%       765.600000\n",
      "max      2340.000000\n",
      "Name: Books, dtype: float64 \n",
      "\n",
      "count     777.000000\n",
      "mean     1340.642214\n",
      "std       677.071454\n",
      "min       250.000000\n",
      "10%       600.000000\n",
      "50%      1200.000000\n",
      "90%      2200.000000\n",
      "95%      2488.800000\n",
      "max      6800.000000\n",
      "Name: Personal, dtype: float64 \n",
      "\n",
      "count    777.000000\n",
      "mean      72.660232\n",
      "std       16.328155\n",
      "min        8.000000\n",
      "10%       50.600000\n",
      "50%       75.000000\n",
      "90%       92.000000\n",
      "95%       95.000000\n",
      "max      103.000000\n",
      "Name: PhD, dtype: float64 \n",
      "\n",
      "count    777.000000\n",
      "mean      79.702703\n",
      "std       14.722359\n",
      "min       24.000000\n",
      "10%       59.000000\n",
      "50%       82.000000\n",
      "90%       96.000000\n",
      "95%       98.000000\n",
      "max      100.000000\n",
      "Name: Terminal, dtype: float64 \n",
      "\n",
      "count    777.000000\n",
      "mean      14.089704\n",
      "std        3.958349\n",
      "min        2.500000\n",
      "10%        9.900000\n",
      "50%       13.600000\n",
      "90%       19.200000\n",
      "95%       21.000000\n",
      "max       39.800000\n",
      "Name: S.F.Ratio, dtype: float64 \n",
      "\n",
      "count    777.000000\n",
      "mean      22.743887\n",
      "std       12.391801\n",
      "min        0.000000\n",
      "10%        8.000000\n",
      "50%       21.000000\n",
      "90%       40.000000\n",
      "95%       46.000000\n",
      "max       64.000000\n",
      "Name: perc.alumni, dtype: float64 \n",
      "\n",
      "count      777.000000\n",
      "mean      9660.171171\n",
      "std       5221.768440\n",
      "min       3186.000000\n",
      "10%       5558.200000\n",
      "50%       8377.000000\n",
      "90%      14841.000000\n",
      "95%      17974.800000\n",
      "max      56233.000000\n",
      "Name: Expend, dtype: float64 \n",
      "\n",
      "count    777.00000\n",
      "mean      65.46332\n",
      "std       17.17771\n",
      "min       10.00000\n",
      "10%       44.60000\n",
      "50%       65.00000\n",
      "90%       89.00000\n",
      "95%       94.20000\n",
      "max      118.00000\n",
      "Name: Grad.Rate, dtype: float64 \n",
      "\n"
     ]
    }
   ],
   "source": [
    "for i in data_2:\n",
    "    print(data_2[i].describe([0.1, 0.9, 0.95]), '\\n')"
   ]
  },
  {
   "cell_type": "code",
   "execution_count": 14,
   "id": "animal-granny",
   "metadata": {},
   "outputs": [],
   "source": [
    "data_2 = data_2[(data_2['Apps'] < 2200) | (data_2['Accept'] <  4814 ) | (data_2['Enroll'] < 1903) | (data_2['Top10perc'] < 50) | (data_2['Top25perc'] < 85) \\\n",
    "    | (data_2['F.Undergrad'] < 10024) | (data_2['P.Undergrad'] < 2016) | (data_2['Outstate'] < 16552) | (data_2['Room.Board'] < 5950) \\\n",
    "     | (data_2['Books'] < 700) & (data_2['Personal'] < 2200) | (data_2['PhD'] < 92) | (data_2['Terminal'] < 96) \\\n",
    "        | (data_2['S.F.Ratio'] < 19) & (data_2['perc.alumni'] < 40) | (data_2['Expend'] < 14841) | (data_2['Grad.Rate'] < 89)]"
   ]
  },
  {
   "cell_type": "code",
   "execution_count": 15,
   "id": "reported-property",
   "metadata": {},
   "outputs": [],
   "source": [
    "data_2 = data_2.drop(columns=['Unnamed: 0', 'Private'])"
   ]
  },
  {
   "cell_type": "markdown",
   "id": "married-saskatchewan",
   "metadata": {},
   "source": [
    "# Parte 2: Métodos de Clusterização"
   ]
  },
  {
   "cell_type": "markdown",
   "id": "continuing-ambassador",
   "metadata": {},
   "source": [
    "## Algoritmos"
   ]
  },
  {
   "cell_type": "markdown",
   "id": "answering-adelaide",
   "metadata": {},
   "source": [
    "### K-Means"
   ]
  },
  {
   "cell_type": "code",
   "execution_count": 16,
   "id": "divine-marks",
   "metadata": {},
   "outputs": [],
   "source": [
    "class K_means:\n",
    "    # num_centroids: número de centroids escolhido\n",
    "    # dados: conjunto de dados que sera utilizado\n",
    "    # num_iter: número de iterações que devemos submeter o conjunto de dados\n",
    "    def __init__(self, num_centroids, dados, num_iter):\n",
    "        self.num_centroids = num_centroids\n",
    "        self.dados = dados\n",
    "        self.num_iter = num_iter\n",
    "        self.cluster_labels = []\n",
    "        self.cluster_centroids = []\n",
    "    \n",
    "    def calc_distance(self, x, y):\n",
    "        return dist.euclidean(x,y)\n",
    "\n",
    "    def findClosestCentroids(self, ic, X):\n",
    "        assigned_centroids = []\n",
    "        for i in X:\n",
    "            distance = []\n",
    "            for j in ic:\n",
    "                distance.append(self.calc_distance(i,j))\n",
    "            assigned_centroids.append(np.argmin(distance))\n",
    "        return assigned_centroids\n",
    "\n",
    "\n",
    "    def calc_centroids(self, clusters, X):\n",
    "        new_centroids = []\n",
    "        new_df = pd.concat([pd.DataFrame(X), pd.DataFrame(clusters, columns=['cluster'])],\n",
    "                        axis=1)\n",
    "        for c in set(new_df['cluster']):\n",
    "            current_cluster = new_df[new_df['cluster'] == c][new_df.columns[:-1]]\n",
    "            cluster_mean = current_cluster.mean(axis=0)\n",
    "            new_centroids.append(cluster_mean)\n",
    "        return new_centroids\n",
    "    \n",
    "    def runKmeans(self):\n",
    "        dataArray = np.array(self.dados)\n",
    "        #print(\"Dataset em vetor\")\n",
    "       # print(dataArray)\n",
    "        # Inicializa num_centroids índices de centroids escolhidos aleatoriamente\n",
    "        init_centroids = random.sample(range(0, len(self.dados)), self.num_centroids)\n",
    "       # print(\"Índices dos Centroids escolhidos\")\n",
    "       # print(init_centroids)\n",
    "        # Recupera o valor de cada um dos índices de centroids escolhidos\n",
    "        centroids = []\n",
    "        for i in init_centroids:\n",
    "            centroids.append(self.dados.loc[i])\n",
    "        centroids = np.array(centroids)\n",
    "        #print(\"Valores dos centroids escolhidos\")\n",
    "        #print(centroids)\n",
    "        for i in range(self.num_iter):\n",
    "            get_centroids = self.findClosestCentroids(centroids, dataArray)\n",
    "            centroids = self.calc_centroids(get_centroids, dataArray)\n",
    "            \n",
    "            self.cluster_labels.append(get_centroids)\n",
    "            self.cluster_centroids.append(centroids)\n",
    "            \n",
    "    def plotKmeans(self):\n",
    "        dataArray = np.array(self.dados)\n",
    "        for i in range(self.num_iter):\n",
    "            ## DataFrame precisa ser criado manualmente de acordo com o dataset\n",
    "            datatest = pd.DataFrame({'Column1': dataArray[:, 0], 'Column2': dataArray[:, 1], 'Column3': dataArray[:, 2], 'Column4': dataArray[:, 3], 'Cluster': self.cluster_labels[i]})\n",
    "            groups = datatest.groupby(\"Cluster\")\n",
    "\n",
    "            #plt.scatter(dataArray[:, 0], dataArray[:, 2], alpha=0.1)\n",
    "            #plt.show()\n",
    "\n",
    "            plt.figure()\n",
    "            for name, group in groups:\n",
    "                plt.plot(group[\"Column1\"], group[\"Column2\"], marker=\"o\", linestyle=\"\", label=name, zorder=1)\n",
    "            plt.scatter(np.array(self.cluster_centroids[i])[:, 0], np.array(self.cluster_centroids[i])[:, 1], color='black', marker=\"*\",zorder=2, s=100)\n",
    "    \n",
    "    def listaTodasDistanciaCentro(self):\n",
    "        dataArray = np.array(self.dados)\n",
    "        distancias = []\n",
    "        \n",
    "        for i in range(len(dataArray)):\n",
    "            index = np.array(self.cluster_labels[self.num_iter - 1])[i]\n",
    "            vetor = np.array(self.cluster_centroids[self.num_iter - 1])\n",
    "            distancias.append(self.calc_distance(dataArray[i], vetor[index, :]))\n",
    "        return distancias\n",
    "            "
   ]
  },
  {
   "cell_type": "markdown",
   "id": "floppy-asthma",
   "metadata": {},
   "source": [
    "### MeanShift"
   ]
  },
  {
   "cell_type": "markdown",
   "id": "initial-monitor",
   "metadata": {},
   "source": [
    "Diferentemente do K-means que nós colocamos o número de clusters pretendido, no meanshift a gente quer que o algoritmo descubra a quantidade de clusters."
   ]
  },
  {
   "cell_type": "code",
   "execution_count": 17,
   "id": "elementary-method",
   "metadata": {},
   "outputs": [],
   "source": [
    "class Mean_Shift:\n",
    "    def __init__(self, radius):\n",
    "        '''Raio do centróide'''\n",
    "        self.radius = radius\n",
    "        \n",
    "    def euclidean_distance(x, centroid):\n",
    "        '''Cálculo da distância euclidiana de n-dimensões'''\n",
    "        return np.sqrt(np.sum((x - centroid)**2))\n",
    "\n",
    "    def fit(self, data):\n",
    "        '''A função primeiro faz todos os dados virarem centróides, em seguida calcula a média dos \n",
    "        pontos dentro do raio do centróide gerando um novo centróide e repete até convergir.\n",
    "        O algoritmo fica responsável pela escolha da quantidade de clusters'''\n",
    "        data = np.array(data)\n",
    "        centroids = {}\n",
    "\n",
    "        for i in range(len(data)):\n",
    "            centroids[i] = data[i]\n",
    "        \n",
    "        while True:\n",
    "            new_centroids = []\n",
    "            for i in centroids:\n",
    "                in_bandwidth = []\n",
    "                centroid = centroids[i]\n",
    "                for points in data:\n",
    "                    if np.linalg.norm(points-centroid) < self.radius:\n",
    "                        in_bandwidth.append(points)\n",
    "\n",
    "                new_centroid = np.average(in_bandwidth,axis=0)\n",
    "                new_centroids.append(tuple(new_centroid))\n",
    "\n",
    "            uniques = sorted(list(set(new_centroids)))\n",
    "\n",
    "            prev_centroids = dict(centroids)\n",
    "\n",
    "            centroids = {}\n",
    "            for i in range(len(uniques)):\n",
    "                centroids[i] = np.array(uniques[i])\n",
    "\n",
    "            optimized = True\n",
    "\n",
    "            for i in centroids:\n",
    "                if not np.array_equal(centroids[i], prev_centroids[i]):\n",
    "                    optimized = False\n",
    "                if not optimized:\n",
    "                    break\n",
    "                \n",
    "            if optimized:\n",
    "                break\n",
    "\n",
    "        self.centroids = centroids\n",
    "        \n",
    "    def predict(self, data):\n",
    "        '''Calcula qual é o centróide do dado verificando através da distância euclidiana com todos os centroids, \n",
    "        qual é o centróide mais próximo do dado'''\n",
    "        data = np.array(data)\n",
    "        label = []\n",
    "        for i in data:\n",
    "            min_distance = float('inf')\n",
    "            for centroid in self.centroids:\n",
    "                distance = self.euclidean_distance(i, self.centroids[centroid])\n",
    "\n",
    "                if distance < min_distance:\n",
    "                    label_centroid = centroid\n",
    "                    min_distance = distance\n",
    "\n",
    "            label.append(label_centroid)\n",
    "\n",
    "        return label\n",
    "    \n",
    "    "
   ]
  },
  {
   "cell_type": "code",
   "execution_count": 18,
   "id": "statutory-puzzle",
   "metadata": {},
   "outputs": [],
   "source": [
    "def ObtemCusto(Input, centroid):\n",
    "        # Transforma o DataFrame para array\n",
    "        Input = np.array(Input)\n",
    "\n",
    "        # Cria uma lista para armazenar todos os resultados\n",
    "        DistanciasTotais = []\n",
    "\n",
    "        # Iteração por cada item da BASE DE DADOS\n",
    "        for i in range(len(Input)):\n",
    "            # Cria uma variável auxiliar para armazenar as distâncias \n",
    "            DistanciaAuxiliar = []\n",
    "            # Iteração em cada CENTROID encontrado pelo algoritmo\n",
    "            for j in centroid.keys():\n",
    "                # Armazena a distância de cada dado ao centroide na lista auxiliar\n",
    "                DistanciaAuxiliar.append(dist.euclidean(Input[i], centroid[j]))\n",
    "            # Armazena a lista auxiliar na lista principal\n",
    "            DistanciasTotais.append(DistanciaAuxiliar)\n",
    "        # Transforma a LISTA de LISTAS em um array onde casa LINHA representa um dado e cada COLUNA representa o centroid\n",
    "        # Exemplo: Linha 10 Coluna 4 - Representa a distância do dado do INPUT[10] ao CENTROID[4]\n",
    "        # Exemplo: Linha 4 Coluna 2 - Representa a distância do dado do INPUT[4] ao CENTROID[2]\n",
    "        DistanciasTotais = np.array(DistanciasTotais)\n",
    "\n",
    "        # Seleciona PARA CADA LINHA qual é a MENOR distância do INPUT[x] aos centroids\n",
    "        # EXEMPLO: [[0, 1, 2, 4], [5, 6, 7, 8], [9, 10, 11, 12]]\n",
    "        # EXEMPLO CONTINUAÇÃO: No exemplo temos 3 dados e 4 centroides ou seja 3 Linhas e 4 Colunas\n",
    "        # EXEMPLO CONTINUAÇÃO: Nesse caso a distância do dado 0 ao centroid 0 é igual a 0\n",
    "        # EXEMPLO CONTINUAÇÃO: Nesse caso a distância do dado 0 ao centroid 1 é igual a 1\n",
    "        # EXEMPLO CONTINUAÇÃO: Nesse caso a distância do dado 0 ao centroid 2 é igual a 2\n",
    "        # EXEMPLO CONTINUAÇÃO: Nesse caso a distância do dado 0 ao centroid 3 é igual a 4\n",
    "        # EXEMPLO CONTINUAÇÃO: Nesse caso a distância do dado 1 ao centroid 0 é igual a 5\n",
    "        # EXEMPLO CONTINUAÇÃO: Nesse caso a distância do dado 1 ao centroid 1 é igual a 6\n",
    "        # EXEMPLO CONTINUAÇÃO: Nesse caso a distância do dado 1 ao centroid 2 é igual a 7\n",
    "        # EXEMPLO CONTINUAÇÃO: Nesse caso a distância do dado 1 ao centroid 3 é igual a 8\n",
    "        # EXEMPLO CONTINUAÇÃO: Nesse caso a distância do dado 2 ao centroid 0 é igual a 9\n",
    "        # EXEMPLO CONTINUAÇÃO: Nesse caso a distância do dado 2 ao centroid 1 é igual a 10\n",
    "        # EXEMPLO CONTINUAÇÃO: Nesse caso a distância do dado 2 ao centroid 2 é igual a 11\n",
    "        # EXEMPLO CONTINUAÇÃO: Nesse caso a distância do dado 2 ao centroid 3 é igual a 12\n",
    "        # EXEMPLO CONTINUAÇÃO: Portanto para CADA DADO qual é a menor distância a um centroid\n",
    "        # EXEMPLO CONTINUAÇÃO: DADO 0 = 0; DADO 1 = 5; DADO 2 = 9\n",
    "        # A função MIN está sendo usada para definir qual é a disância Mínima do DADO ao CENTROID para cada DADO\n",
    "        # O que representa a distância entere o DADO e o CENTROID/CLUSTER que foi dado o PREDICT ou em outras palavras\n",
    "        # o CENTROID que o dado foi clusterizado\n",
    "        DistanciasMinimasDoDadoAoCentroid = np.min(DistanciasTotais, axis = 1)\n",
    "\n",
    "        # Calculo igual ao do K-Means\n",
    "        custo = np.sum(DistanciasMinimasDoDadoAoCentroid)/(2*len(DistanciasMinimasDoDadoAoCentroid))\n",
    "        custo = np.array(custo)\n",
    "        custo = custo.item()\n",
    "        return custo"
   ]
  },
  {
   "cell_type": "markdown",
   "id": "fiscal-compatibility",
   "metadata": {},
   "source": [
    "### Divisão dos dados entre Treino e Teste (90/10)"
   ]
  },
  {
   "cell_type": "code",
   "execution_count": 19,
   "id": "mysterious-farming",
   "metadata": {},
   "outputs": [],
   "source": [
    "def train_test_split(x, train_per = 0.9, test_per = 0.1,shuffle = True):\n",
    "    \n",
    "    n_samples = len(x)\n",
    "    n_train, n_test = round(train_per*n_samples), round(test_per*n_samples)\n",
    "    \n",
    "    if shuffle:\n",
    "        x_teste = x.reindex(np.random.permutation(x.index))\n",
    "        train = x_teste.iloc[:n_train]\n",
    "        test = x_teste.iloc[n_train:n_test+n_train]\n",
    "    else:\n",
    "        train = x.iloc[:n_train]\n",
    "        test = x.iloc[n_train:n_test+n_train]\n",
    "        \n",
    "    train = train.reset_index(drop=True)\n",
    "    test = test.reset_index(drop=True)\n",
    "        \n",
    "    return train, test\n",
    "\n",
    "train_1, test_1 = train_test_split(data_1)\n",
    "train_2, test_2 = train_test_split(data_2)"
   ]
  },
  {
   "cell_type": "code",
   "execution_count": 20,
   "id": "incredible-accident",
   "metadata": {},
   "outputs": [
    {
     "name": "stdout",
     "output_type": "stream",
     "text": [
      "Tamanho inicial: (573, 2) - Treino: (516, 2), Teste: (57, 2)\n",
      "Tamanho inicial: (777, 17) - Treino: (699, 17), Teste: (78, 17)\n"
     ]
    }
   ],
   "source": [
    "print('Tamanho inicial: {} - Treino: {}, Teste: {}'.format(data_1.shape, train_1.shape, test_1.shape))\n",
    "print('Tamanho inicial: {} - Treino: {}, Teste: {}'.format(data_2.shape, train_2.shape, test_2.shape))"
   ]
  },
  {
   "cell_type": "code",
   "execution_count": 28,
   "id": "suffering-liverpool",
   "metadata": {},
   "outputs": [
    {
     "name": "stderr",
     "output_type": "stream",
     "text": [
      "100%|██████████| 10/10 [02:27<00:00, 14.76s/it]\n"
     ]
    }
   ],
   "source": [
    "ListaDeRaios = [0.35, 0.3, 0.27, 0.25, 0.2, 0.18, 0.17, 0.15, 0.12, 0.1]\n",
    "    \n",
    "custo_total = []\n",
    "for raio in tqdm(ListaDeRaios):    \n",
    "\n",
    "    clf = Mean_Shift(radius = raio)\n",
    "    clf.fit(train_1)\n",
    "    centroids = clf.centroids\n",
    "    \n",
    "    custo_total.append(ObtemCusto(train_1, centroids))"
   ]
  },
  {
   "cell_type": "markdown",
   "id": "neither-cotton",
   "metadata": {},
   "source": [
    "### Normalização\n",
    "Como a escala dos dados é parecida, optamos pela normalização dos dados para ajudar o algoritmo."
   ]
  },
  {
   "cell_type": "code",
   "execution_count": 24,
   "id": "amazing-jewel",
   "metadata": {},
   "outputs": [],
   "source": [
    "class Normalization:\n",
    "    def __init__(self, x_data, min_x = [], max_x = []):\n",
    "        self.x_data = x_data\n",
    "        self.min = min_x\n",
    "        self.max = max_x\n",
    "        \n",
    "    def fit(self):\n",
    "        self.min = [min(self.x_data[i]) for i in self.x_data.columns]\n",
    "        self.max = [max(self.x_data[i]) for i in self.x_data.columns]\n",
    "        \n",
    "    def normalization(self, x, min_x, max_x):\n",
    "        return (x - min_x) / (max_x - min_x) \n",
    "    \n",
    "    def transform(self, data):\n",
    "        for i in range(len(self.x_data.columns)):\n",
    "            col = self.x_data.columns[i]\n",
    "            data[col] = data[col].apply(lambda x: self.normalization(x, self.min[i], self.max[i]))\n",
    "            \n",
    "        return data\n",
    "        "
   ]
  },
  {
   "cell_type": "markdown",
   "id": "geographic-checkout",
   "metadata": {},
   "source": [
    "Normalizamos a base de teste, de acordo com os valores da base de treino, para não haver vazamento de dados."
   ]
  },
  {
   "cell_type": "code",
   "execution_count": 25,
   "id": "photographic-establishment",
   "metadata": {},
   "outputs": [],
   "source": [
    "data_1_norm = Normalization(train_1)\n",
    "data_2_norm = Normalization(train_2)\n",
    "\n",
    "data_1_norm.fit()\n",
    "data_2_norm.fit()\n",
    "\n",
    "train_1 = data_1_norm.transform(train_1)\n",
    "test_1 = data_1_norm.transform(test_1)\n",
    "\n",
    "train_2 = data_2_norm.transform(train_2)\n",
    "test_2 = data_2_norm.transform(test_2)"
   ]
  },
  {
   "cell_type": "markdown",
   "id": "detailed-investigation",
   "metadata": {},
   "source": [
    "### Treinamento"
   ]
  },
  {
   "cell_type": "markdown",
   "id": "understood-gentleman",
   "metadata": {},
   "source": [
    "#### K-Means"
   ]
  },
  {
   "cell_type": "code",
   "execution_count": 26,
   "id": "competent-aviation",
   "metadata": {},
   "outputs": [
    {
     "data": {
      "text/plain": [
       "Text(0, 0.5, 'Dispersion')"
      ]
     },
     "execution_count": 26,
     "metadata": {},
     "output_type": "execute_result"
    },
    {
     "data": {
      "image/png": "[encoded data removed]",
      "text/plain": [
       "<Figure size 432x288 with 1 Axes>"
      ]
     },
     "metadata": {
      "needs_background": "light"
     },
     "output_type": "display_data"
    }
   ],
   "source": [
    "custo_total = []\n",
    "\n",
    "for i in range(1,11):\n",
    "    kmeans = K_means(i, train_2, 20)\n",
    "    kmeans.runKmeans()\n",
    "    distancias = kmeans.listaTodasDistanciaCentro()\n",
    "    custo = sum(distancias)/(2*len(train_2))\n",
    "    custo = np.array(custo)\n",
    "    custo = custo.item()\n",
    "    custo_total.append(custo)\n",
    "\n",
    "x = np.arange(10)\n",
    "plt.plot(x,custo_total)\n",
    "plt.title(\"Elbow curve\")\n",
    "plt.xlabel(\"K -->\")\n",
    "plt.ylabel(\"Dispersion\")\n",
    "    "
   ]
  },
  {
   "cell_type": "markdown",
   "id": "about-temperature",
   "metadata": {},
   "source": [
    "#### MeanShift"
   ]
  },
  {
   "cell_type": "code",
   "execution_count": 30,
   "id": "composite-pressing",
   "metadata": {},
   "outputs": [
    {
     "data": {
      "text/plain": [
       "Text(0, 0.5, 'Dispersion')"
      ]
     },
     "execution_count": 30,
     "metadata": {},
     "output_type": "execute_result"
    },
    {
     "data": {
      "image/png": "[encoded data removed]",
      "text/plain": [
       "<Figure size 432x288 with 1 Axes>"
      ]
     },
     "metadata": {
      "needs_background": "light"
     },
     "output_type": "display_data"
    }
   ],
   "source": [
    "plt.plot(ListaDeRaios, custo_total)\n",
    "plt.title(\"Elbow curve\")\n",
    "plt.xlabel(\"Radius -->\")\n",
    "plt.ylabel(\"Dispersion\")"
   ]
  },
  {
   "cell_type": "markdown",
   "id": "flush-nevada",
   "metadata": {},
   "source": [
    "plt.figure(figsize=(20,5))\n",
    "plt.subplot(1,2,1)\n",
    "plt.title('Dados de treino')\n",
    "sns.scatterplot(data=train_1, x=\"x\", y=\"y\", hue=\"label\", palette=\"deep\")\n",
    "\n",
    "plt.subplot(1,2,2)\n",
    "plt.title('Dados de teste')\n",
    "sns.scatterplot(data=test_1, x=\"x\", y=\"y\", hue=\"label\", palette=\"deep\") \n",
    "plt.show()"
   ]
  },
  {
   "cell_type": "markdown",
   "id": "regulation-husband",
   "metadata": {},
   "source": [
    "# Avaliação e Discussão"
   ]
  },
  {
   "cell_type": "markdown",
   "id": "atomic-legislature",
   "metadata": {},
   "source": [
    "- Como a normalização afetou o resultado?\n",
    "- A quantidade de clusters é representativo pros dados?\n",
    "- A inicialização dos clusters afetou o resultado? \n",
    "- Vantagens e desvantagens de cada método\n",
    "- Como a dimensionalidade afetou os resultados?"
   ]
  },
  {
   "cell_type": "markdown",
   "id": "acquired-blowing",
   "metadata": {},
   "source": [
    "# Contribuição de cada membro\n",
    "\n",
    "A contribuição de cada membro foi equivalente, a Bruna ficou com a parte do ShiftMean e o Vitor com a parte do K-Means, ambos geraram e analisaram seus resultados, revisaram o resultado do outro e se ajudaram."
   ]
  },
  {
   "cell_type": "code",
   "execution_count": null,
   "id": "gorgeous-drilling",
   "metadata": {},
   "outputs": [],
   "source": []
  }
 ],
 "metadata": {
  "kernelspec": {
   "display_name": "Python 3",
   "language": "python",
   "name": "python3"
  },
  "language_info": {
   "codemirror_mode": {
    "name": "ipython",
    "version": 3
   },
   "file_extension": ".py",
   "mimetype": "text/x-python",
   "name": "python",
   "nbconvert_exporter": "python",
   "pygments_lexer": "ipython3",
   "version": "3.8.5"
  }
 },
 "nbformat": 4,
 "nbformat_minor": 5
}
