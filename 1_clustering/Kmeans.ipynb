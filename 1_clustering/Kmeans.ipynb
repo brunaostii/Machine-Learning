{
 "cells": [
  {
   "cell_type": "code",
   "execution_count": 172,
   "id": "49d06df9",
   "metadata": {},
   "outputs": [],
   "source": [
    "import pandas as pd\n",
    "import numpy as np\n",
    "import matplotlib.pyplot as plt \n",
    "import collections\n",
    "import queue\n",
    "import scipy.io as spio\n",
    "from scipy.spatial import distance as dist\n",
    "import random\n",
    "import seaborn\n",
    "\n",
    "class K_means:\n",
    "    # num_centroids: número de centroids escolhido\n",
    "    # dados: conjunto de dados que sera utilizado\n",
    "    # num_iter: número de iterações que devemos submeter o conjunto de dados\n",
    "    def __init__(self, num_centroids, dados, num_iter):\n",
    "        self.num_centroids = num_centroids\n",
    "        self.dados = dados\n",
    "        self.num_iter = num_iter\n",
    "        self.cluster_labels = []\n",
    "        self.cluster_centroids = []\n",
    "        self.predicted_cluster_labels = []\n",
    "    \n",
    "    def calc_distance(self, x, y):\n",
    "        return dist.euclidean(x,y)\n",
    "\n",
    "    def findClosestCentroids(self, ic, X):\n",
    "        assigned_centroids = []\n",
    "        for i in X:\n",
    "            distance = []\n",
    "            for j in ic:\n",
    "                distance.append(self.calc_distance(i,j))\n",
    "            assigned_centroids.append(np.argmin(distance))\n",
    "        return assigned_centroids\n",
    "\n",
    "\n",
    "    def calc_centroids(self, clusters, X):\n",
    "        new_centroids = []\n",
    "        new_df = pd.concat([pd.DataFrame(X), pd.DataFrame(clusters, columns=['cluster'])],\n",
    "                        axis=1)\n",
    "        for c in set(new_df['cluster']):\n",
    "            current_cluster = new_df[new_df['cluster'] == c][new_df.columns[:-1]]\n",
    "            cluster_mean = current_cluster.mean(axis=0)\n",
    "            new_centroids.append(cluster_mean)\n",
    "        return new_centroids\n",
    "    \n",
    "    def runKmeans(self):\n",
    "        dataArray = np.array(self.dados)\n",
    "        #print(\"Dataset em vetor\")\n",
    "       # print(dataArray)\n",
    "        # Inicializa num_centroids índices de centroids escolhidos aleatoriamente\n",
    "        init_centroids = random.sample(range(0, len(self.dados)), self.num_centroids)\n",
    "       # print(\"Índices dos Centroids escolhidos\")\n",
    "       # print(init_centroids)\n",
    "        # Recupera o valor de cada um dos índices de centroids escolhidos\n",
    "        centroids = []\n",
    "        for i in init_centroids:\n",
    "            centroids.append(self.dados.loc[i])\n",
    "        centroids = np.array(centroids)\n",
    "        #print(\"Valores dos centroids escolhidos\")\n",
    "        #print(centroids)\n",
    "        for i in range(self.num_iter):\n",
    "            get_centroids = self.findClosestCentroids(centroids, dataArray)\n",
    "            centroids = self.calc_centroids(get_centroids, dataArray)\n",
    "            \n",
    "            self.cluster_labels.append(get_centroids)\n",
    "            self.cluster_centroids.append(centroids)\n",
    "    ### TEM QUE MUDAR MANUALMENTE AS FUNÇÕES DE PLOT PARA NÚMERO DE CLUSTERS DIFERENTES\n",
    "    def plotKmeans(self):\n",
    "        dataArray = np.array(self.dados)\n",
    "        for i in range(self.num_iter):\n",
    "            ## DataFrame precisa ser criado manualmente de acordo com o dataset\n",
    "            datatest = pd.DataFrame({'Column1': dataArray[:, 0], 'Column2': dataArray[:, 1], 'Column3': dataArray[:, 2], 'Column4': dataArray[:, 3], 'Cluster': self.cluster_labels[i]})\n",
    "            groups = datatest.groupby(\"Cluster\")\n",
    "\n",
    "            #plt.scatter(dataArray[:, 0], dataArray[:, 2], alpha=0.1)\n",
    "            #plt.show()\n",
    "\n",
    "            plt.figure()\n",
    "            for name, group in groups:\n",
    "                plt.plot(group[\"Column1\"], group[\"Column2\"], marker=\"o\", linestyle=\"\", label=name, zorder=1) \n",
    "            plt.scatter(np.array(self.cluster_centroids[i])[:, 0], np.array(self.cluster_centroids[i])[:, 1], color=['black','green','red'], marker=\"*\",zorder=2, s=100)\n",
    "            \n",
    "    ### TEM QUE MUDAR MANUALMENTE AS FUNÇÕES DE PLOT PARA NÚMERO DE CLUSTERS DIFERENTES\n",
    "    def plotPredict(self, test_dataset):\n",
    "        dataArray = np.array(test_dataset)\n",
    "        ## DataFrame precisa ser criado manualmente de acordo com o dataset\n",
    "        datatest = pd.DataFrame({'Column1': dataArray[:, 0], 'Column2': dataArray[:, 1], 'Column3': dataArray[:, 2], 'Column4': dataArray[:, 3], 'Cluster': self.predicted_cluster_labels})\n",
    "        groups = datatest.groupby(\"Cluster\")\n",
    "\n",
    "        #plt.scatter(dataArray[:, 0], dataArray[:, 2], alpha=0.1)\n",
    "        #plt.show()\n",
    "\n",
    "        plt.figure()\n",
    "        for name, group in groups:\n",
    "            plt.plot(group[\"Column1\"], group[\"Column2\"], marker=\"o\", linestyle=\"\", label=name, zorder=1)\n",
    "        plt.scatter(np.array(self.cluster_centroids[self.num_iter - 1])[:, 0], np.array(self.cluster_centroids[self.num_iter - 1])[:, 1], color=['black','green', 'red'], marker=\"*\",zorder=2, s=100)\n",
    "        \n",
    "    def listaTodasDistanciaCentro(self):\n",
    "        dataArray = np.array(self.dados)\n",
    "        distancias = []\n",
    "        \n",
    "        for i in range(len(dataArray)):\n",
    "            index = np.array(self.cluster_labels[self.num_iter - 1])[i]\n",
    "            vetor = np.array(self.cluster_centroids[self.num_iter - 1])\n",
    "            distancias.append(self.calc_distance(dataArray[i], vetor[index, :]))\n",
    "        return distancias\n",
    "    \n",
    "    def predict(self, test_dataset):\n",
    "        dataArray = np.array(test_dataset)\n",
    "        centros_clusters = self.cluster_centroids[self.num_iter - 1]\n",
    "        for i in dataArray:\n",
    "            distancia_closest_cluster = 100000\n",
    "            for j in range(0, len(centros_clusters)):\n",
    "                distancia_cluster_atual = self.calc_distance(i, centros_clusters[j])\n",
    "                #print(distancia_cluster_atual, distancia_closest_cluster, self.predicted_cluster_labels)\n",
    "                if(distancia_cluster_atual < distancia_closest_cluster):\n",
    "                    distancia_closest_cluster = distancia_cluster_atual\n",
    "                    closest_cluster_index = j\n",
    "                    #print(\"         {} {}\".format(distancia_closest_cluster, closest_cluster_index))\n",
    "            self.predicted_cluster_labels.append(closest_cluster_index)\n",
    "        return self.predicted_cluster_labels\n",
    "                    \n",
    "            \n",
    "\n",
    "\n",
    "# Elbow Method\n",
    "def elbowKmeans(dataset, num_range_clusters, num_iter):\n",
    "    custo_total = []\n",
    "    for i in range(1,num_range_clusters + 1):\n",
    "        kmeans = K_means(i, dataset, num_iter)\n",
    "        kmeans.runKmeans()\n",
    "        distancias = kmeans.listaTodasDistanciaCentro()\n",
    "        custo = sum(distancias)/(2*len(dataset))\n",
    "        custo = np.array(custo)\n",
    "        custo = custo.item()\n",
    "        custo_total.append(custo)\n",
    "\n",
    "    x = np.arange(1, num_range_clusters + 1)\n",
    "    plt.plot(x,custo_total)\n",
    "    plt.title(\"Elbow curve\")\n",
    "    plt.xlabel(\"K -->\")\n",
    "    plt.ylabel(\"Dispersion\")\n",
    "     \n",
    "def train_test_split(x, train_per = 0.9, test_per = 0.1,shuffle = True):\n",
    "    \n",
    "    n_samples = len(x)\n",
    "    n_train, n_test = round(train_per*n_samples), round(test_per*n_samples)\n",
    "    \n",
    "    if shuffle:\n",
    "        x_teste = x.reindex(np.random.permutation(x.index))\n",
    "        train = x_teste.iloc[:n_train]\n",
    "        test = x_teste.iloc[n_train:n_test+n_train]\n",
    "    else:\n",
    "        train = x.iloc[:n_train]\n",
    "        test = x.iloc[n_train:n_test+n_train]\n",
    "        \n",
    "    train = train.reset_index(drop=True)\n",
    "    test = test.reset_index(drop=True)\n",
    "        \n",
    "    return train, test"
   ]
  },
  {
   "cell_type": "code",
   "execution_count": 176,
   "id": "7be33c30",
   "metadata": {},
   "outputs": [
    {
     "data": {
      "image/png": "[encoded data removed]",
      "text/plain": [
       "<Figure size 432x288 with 1 Axes>"
      ]
     },
     "metadata": {
      "needs_background": "light"
     },
     "output_type": "display_data"
    }
   ],
   "source": [
    "data_set = pd.read_csv('./iris.csv')\n",
    "dataset = data_set.iloc[:, [0,1,2,3]].values\n",
    "dataset = pd.DataFrame(dataset)\n",
    "\n",
    "\n",
    "dataset[0] = pd.to_numeric(dataset[0])\n",
    "dataset[1] = pd.to_numeric(dataset[1])\n",
    "dataset[2] = pd.to_numeric(dataset[2])\n",
    "dataset[3] = pd.to_numeric(dataset[3])\n",
    "\n",
    "# Normaliza o dataset\n",
    "def normalization(x, min_x, max_x):\n",
    "    return (x - min_x) / (max_x - min_x) \n",
    "dataset[0] = dataset[0].apply(lambda x: normalization(x, min(dataset[0]), max(dataset[0])))\n",
    "dataset[1] = dataset[1].apply(lambda x: normalization(x, min(dataset[1]), max(dataset[1])))\n",
    "dataset[2] = dataset[2].apply(lambda x: normalization(x, min(dataset[2]), max(dataset[2])))\n",
    "dataset[3] = dataset[3].apply(lambda x: normalization(x, min(dataset[3]), max(dataset[3])))\n",
    "\n",
    "\n",
    "\n",
    "##Teste elbow\n",
    "for i in range(10):\n",
    "    elbowKmeans(dataset, 10, 20)\n",
    "##Teste do predict()\n",
    "#train, test = train_test_split(dataset)\n",
    "\n",
    "#kmeans = K_means(3, train, 20)\n",
    "#kmeans.runKmeans()\n",
    "#kmeans.plotKmeans()\n",
    "#predicted_clusters = kmeans.predict(test)\n",
    "#kmeans.plotPredict(test)\n",
    "\n"
   ]
  },
  {
   "cell_type": "code",
   "execution_count": 137,
   "id": "93cbf9a9",
   "metadata": {},
   "outputs": [
    {
     "data": {
      "text/plain": [
       "Text(0, 0.5, 'Dispersion')"
      ]
     },
     "execution_count": 137,
     "metadata": {},
     "output_type": "execute_result"
    },
    {
     "data": {
      "image/png": "[encoded data removed]",
      "text/plain": [
       "<Figure size 432x288 with 1 Axes>"
      ]
     },
     "metadata": {
      "needs_background": "light"
     },
     "output_type": "display_data"
    }
   ],
   "source": [
    "\n"
   ]
  },
  {
   "cell_type": "code",
   "execution_count": null,
   "id": "bbcaab58",
   "metadata": {},
   "outputs": [],
   "source": []
  },
  {
   "cell_type": "code",
   "execution_count": 41,
   "id": "02240ee4",
   "metadata": {},
   "outputs": [
    {
     "name": "stdout",
     "output_type": "stream",
     "text": [
      "[[0.36969697 0.98161765]\n",
      " [0.35       0.94117647]\n",
      " [0.33636364 0.97058824]\n",
      " ...\n",
      " [0.96666667 0.88419118]\n",
      " [0.98030303 0.88970588]\n",
      " [0.94090909 0.86948529]]\n"
     ]
    },
    {
     "ename": "IndexError",
     "evalue": "index 2 is out of bounds for axis 1 with size 2",
     "output_type": "error",
     "traceback": [
      "\u001b[0;31m---------------------------------------------------------------------------\u001b[0m",
      "\u001b[0;31mIndexError\u001b[0m                                Traceback (most recent call last)",
      "\u001b[0;32m<ipython-input-41-819647f77cb2>\u001b[0m in \u001b[0;36m<module>\u001b[0;34m\u001b[0m\n\u001b[1;32m     17\u001b[0m \u001b[0;31m# Instancia a classe do K-means\u001b[0m\u001b[0;34m\u001b[0m\u001b[0;34m\u001b[0m\u001b[0;34m\u001b[0m\u001b[0m\n\u001b[1;32m     18\u001b[0m \u001b[0mk_means\u001b[0m \u001b[0;34m=\u001b[0m \u001b[0mK_means\u001b[0m\u001b[0;34m(\u001b[0m\u001b[0;36m3\u001b[0m\u001b[0;34m,\u001b[0m \u001b[0mdata_input\u001b[0m\u001b[0;34m,\u001b[0m \u001b[0;36m50\u001b[0m\u001b[0;34m)\u001b[0m\u001b[0;34m\u001b[0m\u001b[0;34m\u001b[0m\u001b[0m\n\u001b[0;32m---> 19\u001b[0;31m \u001b[0mk_means\u001b[0m\u001b[0;34m.\u001b[0m\u001b[0mrunKmeans\u001b[0m\u001b[0;34m(\u001b[0m\u001b[0;34m)\u001b[0m\u001b[0;34m\u001b[0m\u001b[0;34m\u001b[0m\u001b[0m\n\u001b[0m",
      "\u001b[0;32m<ipython-input-39-0ce499705c05>\u001b[0m in \u001b[0;36mrunKmeans\u001b[0;34m(self)\u001b[0m\n\u001b[1;32m     63\u001b[0m             \u001b[0mprint\u001b[0m\u001b[0;34m(\u001b[0m\u001b[0mdataArray\u001b[0m\u001b[0;34m)\u001b[0m\u001b[0;34m\u001b[0m\u001b[0;34m\u001b[0m\u001b[0m\n\u001b[1;32m     64\u001b[0m \u001b[0;34m\u001b[0m\u001b[0m\n\u001b[0;32m---> 65\u001b[0;31m             \u001b[0mdatatest\u001b[0m \u001b[0;34m=\u001b[0m \u001b[0mpd\u001b[0m\u001b[0;34m.\u001b[0m\u001b[0mDataFrame\u001b[0m\u001b[0;34m(\u001b[0m\u001b[0;34m{\u001b[0m\u001b[0;34m'Column1'\u001b[0m\u001b[0;34m:\u001b[0m \u001b[0mdataArray\u001b[0m\u001b[0;34m[\u001b[0m\u001b[0;34m:\u001b[0m\u001b[0;34m,\u001b[0m \u001b[0;36m0\u001b[0m\u001b[0;34m]\u001b[0m\u001b[0;34m,\u001b[0m \u001b[0;34m'Column2'\u001b[0m\u001b[0;34m:\u001b[0m \u001b[0mdataArray\u001b[0m\u001b[0;34m[\u001b[0m\u001b[0;34m:\u001b[0m\u001b[0;34m,\u001b[0m \u001b[0;36m1\u001b[0m\u001b[0;34m]\u001b[0m\u001b[0;34m,\u001b[0m \u001b[0;34m'Column3'\u001b[0m\u001b[0;34m:\u001b[0m \u001b[0mdataArray\u001b[0m\u001b[0;34m[\u001b[0m\u001b[0;34m:\u001b[0m\u001b[0;34m,\u001b[0m \u001b[0;36m2\u001b[0m\u001b[0;34m]\u001b[0m\u001b[0;34m,\u001b[0m \u001b[0;34m'Cluster'\u001b[0m\u001b[0;34m:\u001b[0m \u001b[0mget_centroids\u001b[0m\u001b[0;34m}\u001b[0m\u001b[0;34m)\u001b[0m\u001b[0;34m\u001b[0m\u001b[0;34m\u001b[0m\u001b[0m\n\u001b[0m\u001b[1;32m     66\u001b[0m             \u001b[0mprint\u001b[0m\u001b[0;34m(\u001b[0m\u001b[0mdatatest\u001b[0m\u001b[0;34m)\u001b[0m\u001b[0;34m\u001b[0m\u001b[0;34m\u001b[0m\u001b[0m\n\u001b[1;32m     67\u001b[0m \u001b[0;34m\u001b[0m\u001b[0m\n",
      "\u001b[0;31mIndexError\u001b[0m: index 2 is out of bounds for axis 1 with size 2"
     ]
    }
   ],
   "source": [
    "# Carrega o dataset\n",
    "data_input = [i.strip().split() for i in open(\"./cluster.dat\").readlines()]\n",
    "data_input = pd.DataFrame(data_input)\n",
    "data_input[0] = pd.to_numeric(data_input[0])\n",
    "data_input[1] = pd.to_numeric(data_input[1])\n",
    "\n",
    "\n",
    "\n",
    "\n",
    "# Normaliza o dataset\n",
    "def normalization(x, min_x, max_x):\n",
    "    return (x - min_x) / (max_x - min_x) \n",
    "data_input[0] = data_input[0].apply(lambda x: normalization(x, min(data_input[0]), max(data_input[0])))\n",
    "data_input[1] = data_input[1].apply(lambda x: normalization(x, min(data_input[1]), max(data_input[1])))\n",
    "\n",
    "\n",
    "# Instancia a classe do K-means\n",
    "k_means = K_means(3, data_input, 50)\n",
    "k_means.runKmeans()\n"
   ]
  },
  {
   "cell_type": "code",
   "execution_count": null,
   "id": "33ca6819",
   "metadata": {},
   "outputs": [],
   "source": []
  },
  {
   "cell_type": "code",
   "execution_count": 13,
   "id": "b8d5238c",
   "metadata": {},
   "outputs": [],
   "source": []
  },
  {
   "cell_type": "code",
   "execution_count": 14,
   "id": "a37398cc",
   "metadata": {},
   "outputs": [],
   "source": [
    "\n"
   ]
  },
  {
   "cell_type": "code",
   "execution_count": null,
   "id": "ed1b1e6a",
   "metadata": {},
   "outputs": [],
   "source": []
  },
  {
   "cell_type": "code",
   "execution_count": null,
   "id": "a86d2c21",
   "metadata": {},
   "outputs": [],
   "source": []
  }
 ],
 "metadata": {
  "kernelspec": {
   "display_name": "Python 3",
   "language": "python",
   "name": "python3"
  },
  "language_info": {
   "codemirror_mode": {
    "name": "ipython",
    "version": 3
   },
   "file_extension": ".py",
   "mimetype": "text/x-python",
   "name": "python",
   "nbconvert_exporter": "python",
   "pygments_lexer": "ipython3",
   "version": "3.8.5"
  }
 },
 "nbformat": 4,
 "nbformat_minor": 5
}
