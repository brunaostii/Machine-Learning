{
 "cells": [
  {
   "cell_type": "markdown",
   "id": "welsh-coach",
   "metadata": {},
   "source": [
    "## Project 1 - Clusters "
   ]
  },
  {
   "cell_type": "code",
   "execution_count": 1,
   "id": "sonic-dietary",
   "metadata": {},
   "outputs": [],
   "source": [
    "import pandas as pd\n",
    "import numpy as np\n"
   ]
  },
  {
   "cell_type": "code",
   "execution_count": 2,
   "id": "rocky-inclusion",
   "metadata": {},
   "outputs": [],
   "source": [
    "data_input = [i.strip().split() for i in open(\"./cluster.dat\").readlines()]\n",
    "data_input = pd.DataFrame(data_input)\n",
    "data_input[0] = pd.to_numeric(data_input[0])\n",
    "data_input[1] = pd.to_numeric(data_input[1])"
   ]
  },
  {
   "cell_type": "code",
   "execution_count": 3,
   "id": "anonymous-hollow",
   "metadata": {},
   "outputs": [
    {
     "data": {
      "image/png": "[encoded data removed]",
      "text/plain": [
       "<Figure size 360x360 with 1 Axes>"
      ]
     },
     "metadata": {
      "needs_background": "light"
     },
     "output_type": "display_data"
    }
   ],
   "source": [
    "import pandas as pd \n",
    "import matplotlib.pyplot as plt \n",
    "\n",
    "plt.figure(figsize=(5,5))\n",
    "plt.scatter(data_input[0], data_input[1])\n",
    "plt.title('Distribuição dos dados')\n",
    "plt.show()"
   ]
  },
  {
   "cell_type": "code",
   "execution_count": 4,
   "id": "electoral-graduate",
   "metadata": {},
   "outputs": [
    {
     "data": {
      "text/html": [
       "<div>\n",
       "<style scoped>\n",
       "    .dataframe tbody tr th:only-of-type {\n",
       "        vertical-align: middle;\n",
       "    }\n",
       "\n",
       "    .dataframe tbody tr th {\n",
       "        vertical-align: top;\n",
       "    }\n",
       "\n",
       "    .dataframe thead th {\n",
       "        text-align: right;\n",
       "    }\n",
       "</style>\n",
       "<table border=\"1\" class=\"dataframe\">\n",
       "  <thead>\n",
       "    <tr style=\"text-align: right;\">\n",
       "      <th></th>\n",
       "      <th>0</th>\n",
       "      <th>1</th>\n",
       "    </tr>\n",
       "  </thead>\n",
       "  <tbody>\n",
       "    <tr>\n",
       "      <th>count</th>\n",
       "      <td>573.000000</td>\n",
       "      <td>573.000000</td>\n",
       "    </tr>\n",
       "    <tr>\n",
       "      <th>mean</th>\n",
       "      <td>1849.808028</td>\n",
       "      <td>15.227836</td>\n",
       "    </tr>\n",
       "    <tr>\n",
       "      <th>std</th>\n",
       "      <td>900.129972</td>\n",
       "      <td>8.292268</td>\n",
       "    </tr>\n",
       "    <tr>\n",
       "      <th>min</th>\n",
       "      <td>335.000000</td>\n",
       "      <td>1.950000</td>\n",
       "    </tr>\n",
       "    <tr>\n",
       "      <th>25%</th>\n",
       "      <td>1155.000000</td>\n",
       "      <td>7.450000</td>\n",
       "    </tr>\n",
       "    <tr>\n",
       "      <th>50%</th>\n",
       "      <td>1655.000000</td>\n",
       "      <td>17.200000</td>\n",
       "    </tr>\n",
       "    <tr>\n",
       "      <th>75%</th>\n",
       "      <td>2350.000000</td>\n",
       "      <td>22.750000</td>\n",
       "    </tr>\n",
       "    <tr>\n",
       "      <th>max</th>\n",
       "      <td>3635.000000</td>\n",
       "      <td>29.150000</td>\n",
       "    </tr>\n",
       "  </tbody>\n",
       "</table>\n",
       "</div>"
      ],
      "text/plain": [
       "                 0           1\n",
       "count   573.000000  573.000000\n",
       "mean   1849.808028   15.227836\n",
       "std     900.129972    8.292268\n",
       "min     335.000000    1.950000\n",
       "25%    1155.000000    7.450000\n",
       "50%    1655.000000   17.200000\n",
       "75%    2350.000000   22.750000\n",
       "max    3635.000000   29.150000"
      ]
     },
     "execution_count": 4,
     "metadata": {},
     "output_type": "execute_result"
    }
   ],
   "source": [
    "data_input.describe()"
   ]
  },
  {
   "cell_type": "code",
   "execution_count": 11,
   "id": "racial-verification",
   "metadata": {},
   "outputs": [],
   "source": [
    "def train_test_split(x, train_per = 0.8, test_per = 0.2, shuffle = True):\n",
    "    \n",
    "    n_samples = len(x)\n",
    "    n_train, n_test = round(train_per*n_samples), round(test_per*n_samples)\n",
    "    \n",
    "    if shuffle:\n",
    "        x_teste = x.reindex(np.random.permutation(x.index))\n",
    "        train = x.iloc[:n_train]\n",
    "        test = x.iloc[n_train:n_test+n_train]\n",
    "    else:\n",
    "        train = x.iloc[:n_train]\n",
    "        test = x.iloc[n_train:n_test+n_train]\n",
    "        \n",
    "    train = train.reset_index(drop=True)\n",
    "    test = test.reset_index(drop=True)\n",
    "        \n",
    "    return train, test"
   ]
  },
  {
   "cell_type": "code",
   "execution_count": 12,
   "id": "informational-seller",
   "metadata": {},
   "outputs": [],
   "source": [
    "train, test = train_test_split(data_input)\n",
    "\n"
   ]
  },
  {
   "cell_type": "code",
   "execution_count": 13,
   "id": "progressive-haven",
   "metadata": {},
   "outputs": [],
   "source": [
    "def normalization(x, min_x, max_x):\n",
    "    return (x - min_x) / (max_x - min_x) \n",
    "\n",
    "train[0] = train[0].apply(lambda x: normalization(x, min(train[0]), max(train[0])))\n",
    "train[1] = train[1].apply(lambda x: normalization(x, min(train[1]), max(train[1])))\n",
    "test[0] = test[0].apply(lambda x: normalization(x, min(test[0]), max(test[0])))\n",
    "test[1] = test[1].apply(lambda x: normalization(x, min(test[1]), max(test[1])))"
   ]
  },
  {
   "cell_type": "code",
   "execution_count": 14,
   "id": "entertaining-allen",
   "metadata": {},
   "outputs": [
    {
     "data": {
      "text/html": [
       "<div>\n",
       "<style scoped>\n",
       "    .dataframe tbody tr th:only-of-type {\n",
       "        vertical-align: middle;\n",
       "    }\n",
       "\n",
       "    .dataframe tbody tr th {\n",
       "        vertical-align: top;\n",
       "    }\n",
       "\n",
       "    .dataframe thead th {\n",
       "        text-align: right;\n",
       "    }\n",
       "</style>\n",
       "<table border=\"1\" class=\"dataframe\">\n",
       "  <thead>\n",
       "    <tr style=\"text-align: right;\">\n",
       "      <th></th>\n",
       "      <th>0</th>\n",
       "      <th>1</th>\n",
       "    </tr>\n",
       "  </thead>\n",
       "  <tbody>\n",
       "    <tr>\n",
       "      <th>0</th>\n",
       "      <td>0.408027</td>\n",
       "      <td>0.981618</td>\n",
       "    </tr>\n",
       "    <tr>\n",
       "      <th>1</th>\n",
       "      <td>0.386288</td>\n",
       "      <td>0.941176</td>\n",
       "    </tr>\n",
       "    <tr>\n",
       "      <th>2</th>\n",
       "      <td>0.371237</td>\n",
       "      <td>0.970588</td>\n",
       "    </tr>\n",
       "    <tr>\n",
       "      <th>3</th>\n",
       "      <td>0.361204</td>\n",
       "      <td>0.987132</td>\n",
       "    </tr>\n",
       "    <tr>\n",
       "      <th>4</th>\n",
       "      <td>0.347826</td>\n",
       "      <td>0.959559</td>\n",
       "    </tr>\n",
       "    <tr>\n",
       "      <th>...</th>\n",
       "      <td>...</td>\n",
       "      <td>...</td>\n",
       "    </tr>\n",
       "    <tr>\n",
       "      <th>453</th>\n",
       "      <td>0.929766</td>\n",
       "      <td>0.586397</td>\n",
       "    </tr>\n",
       "    <tr>\n",
       "      <th>454</th>\n",
       "      <td>0.906355</td>\n",
       "      <td>0.591912</td>\n",
       "    </tr>\n",
       "    <tr>\n",
       "      <th>455</th>\n",
       "      <td>0.892977</td>\n",
       "      <td>0.619485</td>\n",
       "    </tr>\n",
       "    <tr>\n",
       "      <th>456</th>\n",
       "      <td>0.909699</td>\n",
       "      <td>0.619485</td>\n",
       "    </tr>\n",
       "    <tr>\n",
       "      <th>457</th>\n",
       "      <td>0.908027</td>\n",
       "      <td>0.637868</td>\n",
       "    </tr>\n",
       "  </tbody>\n",
       "</table>\n",
       "<p>458 rows × 2 columns</p>\n",
       "</div>"
      ],
      "text/plain": [
       "            0         1\n",
       "0    0.408027  0.981618\n",
       "1    0.386288  0.941176\n",
       "2    0.371237  0.970588\n",
       "3    0.361204  0.987132\n",
       "4    0.347826  0.959559\n",
       "..        ...       ...\n",
       "453  0.929766  0.586397\n",
       "454  0.906355  0.591912\n",
       "455  0.892977  0.619485\n",
       "456  0.909699  0.619485\n",
       "457  0.908027  0.637868\n",
       "\n",
       "[458 rows x 2 columns]"
      ]
     },
     "execution_count": 14,
     "metadata": {},
     "output_type": "execute_result"
    }
   ],
   "source": [
    "train"
   ]
  },
  {
   "cell_type": "code",
   "execution_count": null,
   "id": "personalized-empire",
   "metadata": {},
   "outputs": [],
   "source": [
    "test"
   ]
  },
  {
   "cell_type": "code",
   "execution_count": null,
   "id": "favorite-albania",
   "metadata": {},
   "outputs": [],
   "source": []
  }
 ],
 "metadata": {
  "kernelspec": {
   "display_name": "Python 3",
   "language": "python",
   "name": "python3"
  },
  "language_info": {
   "codemirror_mode": {
    "name": "ipython",
    "version": 3
   },
   "file_extension": ".py",
   "mimetype": "text/x-python",
   "name": "python",
   "nbconvert_exporter": "python",
   "pygments_lexer": "ipython3",
   "version": "3.8.5"
  }
 },
 "nbformat": 4,
 "nbformat_minor": 5
}
