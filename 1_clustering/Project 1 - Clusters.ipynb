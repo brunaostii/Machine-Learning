{
 "cells": [
  {
   "cell_type": "markdown",
   "id": "welsh-coach",
   "metadata": {},
   "source": [
    "## Project 1 - Clusters "
   ]
  },
  {
   "cell_type": "markdown",
   "id": "handy-stability",
   "metadata": {},
   "source": [
    "Reading the data input... "
   ]
  },
  {
   "cell_type": "code",
   "execution_count": 5,
   "id": "sonic-dietary",
   "metadata": {},
   "outputs": [],
   "source": [
    "data_input = [i.strip().split() for i in open(\"./cluster.dat\").readlines()]"
   ]
  },
  {
   "cell_type": "code",
   "execution_count": null,
   "id": "anonymous-hollow",
   "metadata": {},
   "outputs": [],
   "source": []
  }
 ],
 "metadata": {
  "kernelspec": {
   "display_name": "Python 3",
   "language": "python",
   "name": "python3"
  },
  "language_info": {
   "codemirror_mode": {
    "name": "ipython",
    "version": 3
   },
   "file_extension": ".py",
   "mimetype": "text/x-python",
   "name": "python",
   "nbconvert_exporter": "python",
   "pygments_lexer": "ipython3",
   "version": "3.8.5"
  }
 },
 "nbformat": 4,
 "nbformat_minor": 5
}
