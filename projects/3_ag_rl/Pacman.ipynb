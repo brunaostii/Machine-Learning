{
 "cells": [
  {
   "cell_type": "markdown",
   "metadata": {},
   "source": [
    "## Pacman Agent\n",
    "\n",
    "!python pacman.py --layout smallClassic \n",
    "\n",
    "!python pacman.py --layout mediumClassic\n",
    "\n",
    "!python pacman.py --layout originalClassic\n",
    "\n",
    "\n",
    "\n",
    "### Learning the Pac-Man Grid and Actions\n",
    "\n",
    "Actions\n",
    "Pac-Man can only carry out the following actions:\n",
    "• ‘North’: go 1 step north\n",
    "• ‘South’: go one step south\n",
    "• ‘East’: go one step east\n",
    "• ‘West’: go one step west\n",
    "• ‘Stop’: stop, do not move\n",
    "\n"
   ]
  },
  {
   "cell_type": "code",
   "execution_count": 10,
   "metadata": {},
   "outputs": [
    {
     "name": "stdout",
     "output_type": "stream",
     "text": [
      "Pacman died! Score: 1867\n",
      "Average Score: 1867.0\n",
      "Scores:        1867.0\n",
      "Win Rate:      0/1 (0.00)\n",
      "Record:        Loss\n"
     ]
    }
   ],
   "source": [
    "!python pacman.py --layout originalClassic --zoom 0.5"
   ]
  },
  {
   "cell_type": "code",
   "execution_count": null,
   "metadata": {},
   "outputs": [],
   "source": []
  }
 ],
 "metadata": {
  "kernelspec": {
   "display_name": "Python 3",
   "language": "python",
   "name": "python3"
  },
  "language_info": {
   "codemirror_mode": {
    "name": "ipython",
    "version": 2
   },
   "file_extension": ".py",
   "mimetype": "text/x-python",
   "name": "python",
   "nbconvert_exporter": "python",
   "pygments_lexer": "ipython2",
   "version": "2.7.18"
  }
 },
 "nbformat": 4,
 "nbformat_minor": 2
}
