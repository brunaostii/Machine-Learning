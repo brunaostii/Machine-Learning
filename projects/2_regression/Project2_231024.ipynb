{
 "cells": [
  {
   "cell_type": "code",
   "execution_count": 10,
   "id": "right-framework",
   "metadata": {},
   "outputs": [],
   "source": [
    "import pandas as pd\n",
    "\n",
    "kick1 = [i.strip().split() for i in open(\"./kick1.dat\").readlines()]\n",
    "kick2 = [i.strip().split() for i in open(\"./kick2.dat\").readlines()]"
   ]
  },
  {
   "cell_type": "code",
   "execution_count": 16,
   "id": "dominican-single",
   "metadata": {},
   "outputs": [],
   "source": [
    "kick1 = pd.DataFrame(kick1)\n",
    "kick1[0] = pd.to_numeric(kick1[0])\n",
    "kick1[1] = pd.to_numeric(kick1[1])\n",
    "kick1[2] = pd.to_numeric(kick1[2])\n",
    "\n",
    "kick2 = pd.DataFrame(kick2)\n",
    "kick2[0] = pd.to_numeric(kick2[0])\n",
    "kick2[1] = pd.to_numeric(kick2[1])\n",
    "kick2[2] = pd.to_numeric(kick2[2])"
   ]
  },
  {
   "cell_type": "code",
   "execution_count": null,
   "id": "enclosed-mercy",
   "metadata": {},
   "outputs": [],
   "source": []
  }
 ],
 "metadata": {
  "kernelspec": {
   "display_name": "Python 3",
   "language": "python",
   "name": "python3"
  },
  "language_info": {
   "codemirror_mode": {
    "name": "ipython",
    "version": 3
   },
   "file_extension": ".py",
   "mimetype": "text/x-python",
   "name": "python",
   "nbconvert_exporter": "python",
   "pygments_lexer": "ipython3",
   "version": "3.8.5"
  }
 },
 "nbformat": 4,
 "nbformat_minor": 5
}
